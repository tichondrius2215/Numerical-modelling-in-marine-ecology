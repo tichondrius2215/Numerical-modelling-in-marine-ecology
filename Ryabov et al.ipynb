{
 "cells": [
  {
   "cell_type": "markdown",
   "metadata": {},
   "source": [
    "# Raybov et al model fo phytoplankton dynamics with light and nutrient limiting "
   ]
  },
  {
   "cell_type": "code",
   "execution_count": 81,
   "metadata": {},
   "outputs": [],
   "source": [
    "import numpy as np\n",
    "import seaborn as sns\n",
    "import matplotlib.pyplot as plt\n",
    "from scipy.integrate import solve_ivp,odeint\n",
    "from mpl_toolkits.mplot3d import Axes3D\n",
    "from matplotlib import cm, ticker"
   ]
  },
  {
   "cell_type": "code",
   "execution_count": 82,
   "metadata": {},
   "outputs": [],
   "source": [
    "class variables:\n",
    "    n = 100\n",
    "    \n",
    "    def __init__(self,alpha,epsilon,u,D,I_in,depth,K_bg,k,H_I,H_N,m, mu_max, D_u, D_d, Z_mix, w, Nbottom):\n",
    "         \n",
    "         # alpha\n",
    "        self.alpha = alpha\n",
    "        \n",
    "        # epsilon\n",
    "        self.epsilon = epsilon\n",
    "            \n",
    "            \n",
    "         # setteling velocity\n",
    "        self.u = u    # meters per second\n",
    "\n",
    "         # diffusivity\n",
    "        self.D = D   # meters per second\n",
    "\n",
    "         #incident light\n",
    "        self.I_in = I_in  # umol photons m-2 s-1\n",
    "\n",
    "         # depth\n",
    "        self.depth = depth    # meters\n",
    "\n",
    "\n",
    "         # background turbidity\n",
    "        self.K_bg = K_bg  #m-1\n",
    "\n",
    "\n",
    "         # specific light attenuation of phytoplankton\n",
    "        self.k = k\n",
    "     \n",
    "\n",
    "        # H_I half-saturation constant of light-limited growth \n",
    "        self.H_I = H_I\n",
    "        \n",
    "         # H_N half saturation constatn for nutrient limiting\n",
    "        self.H_N = H_N\n",
    "\n",
    "\n",
    "         # m specific loss rate\n",
    "        self.m = m\n",
    "        \n",
    "        # mu_max = maximum growth rate h-1\n",
    "        self.mu_max = mu_max\n",
    "        \n",
    "        \n",
    "        # D_u = turbulent diffusivity in the Upper Mixed Layer (UML)\n",
    "        \n",
    "        self.D_u = D_u\n",
    "        \n",
    "        # D_d = turbulent diffusivity in the deep layers\n",
    "        \n",
    "        self.D_d = D_d\n",
    "        \n",
    "        # Z_mix describes the depth of Upper Mixed Layer (UML)\n",
    "        \n",
    "        self.Z_mix = Z_mix\n",
    "        \n",
    "        # w  = width of the thermocline ????\n",
    "        \n",
    "        self.w = w\n",
    "        \n",
    "        self.Nbottom = Nbottom\n",
    "        \n",
    "        # size of each depth grid\n",
    "    def delta_z(self):\n",
    "        grids = self.depth / self.n\n",
    "        return grids\n"
   ]
  },
  {
   "cell_type": "code",
   "execution_count": 83,
   "metadata": {},
   "outputs": [],
   "source": [
    "                # alpha   epsilon    u     D    I_in   depth   K_bg         k         H_I   H_N    m-loss   mu_max    D_u,   D_d,  Z_mix,    w,  Nbottom\n",
    "param = variables(10**(-9), 0.5,   0.389, 2.0,  200,   300,   0.045,  6*(10**(-10)),  20,  0.0425,   0.01,   0.04 ,   3.9,   0.5,     50,    0.8,    1000  )"
   ]
  },
  {
   "cell_type": "code",
   "execution_count": 84,
   "metadata": {},
   "outputs": [
    {
     "data": {
      "text/plain": [
       "{'alpha': 1e-09,\n",
       " 'epsilon': 0.5,\n",
       " 'u': 0.389,\n",
       " 'D': 2.0,\n",
       " 'I_in': 200,\n",
       " 'depth': 300,\n",
       " 'K_bg': 0.045,\n",
       " 'k': 6e-10,\n",
       " 'H_I': 20,\n",
       " 'H_N': 0.0425,\n",
       " 'm': 0.01,\n",
       " 'mu_max': 0.04,\n",
       " 'D_u': 3.9,\n",
       " 'D_d': 0.5,\n",
       " 'Z_mix': 50,\n",
       " 'w': 0.8,\n",
       " 'Nbottom': 1000}"
      ]
     },
     "execution_count": 84,
     "metadata": {},
     "output_type": "execute_result"
    }
   ],
   "source": [
    "param.__dict__"
   ]
  },
  {
   "cell_type": "code",
   "execution_count": 85,
   "metadata": {},
   "outputs": [
    {
     "data": {
      "text/plain": [
       "array([  1.5,   4.5,   7.5,  10.5,  13.5,  16.5,  19.5,  22.5,  25.5,\n",
       "        28.5,  31.5,  34.5,  37.5,  40.5,  43.5,  46.5,  49.5,  52.5,\n",
       "        55.5,  58.5,  61.5,  64.5,  67.5,  70.5,  73.5,  76.5,  79.5,\n",
       "        82.5,  85.5,  88.5,  91.5,  94.5,  97.5, 100.5, 103.5, 106.5,\n",
       "       109.5, 112.5, 115.5, 118.5, 121.5, 124.5, 127.5, 130.5, 133.5,\n",
       "       136.5, 139.5, 142.5, 145.5, 148.5, 151.5, 154.5, 157.5, 160.5,\n",
       "       163.5, 166.5, 169.5, 172.5, 175.5, 178.5, 181.5, 184.5, 187.5,\n",
       "       190.5, 193.5, 196.5, 199.5, 202.5, 205.5, 208.5, 211.5, 214.5,\n",
       "       217.5, 220.5, 223.5, 226.5, 229.5, 232.5, 235.5, 238.5, 241.5,\n",
       "       244.5, 247.5, 250.5, 253.5, 256.5, 259.5, 262.5, 265.5, 268.5,\n",
       "       271.5, 274.5, 277.5, 280.5, 283.5, 286.5, 289.5, 292.5, 295.5,\n",
       "       298.5])"
      ]
     },
     "execution_count": 85,
     "metadata": {},
     "output_type": "execute_result"
    }
   ],
   "source": [
    "# depth_grid \n",
    "def depth_grid(param):\n",
    "    z = np.arange((0.5 * param.delta_z()),(param.depth - 0.5 * param.delta_z())+ param.delta_z(), param.delta_z())\n",
    "    return z\n",
    "\n",
    "z = depth_grid(param)\n",
    "z"
   ]
  },
  {
   "cell_type": "markdown",
   "metadata": {},
   "source": [
    "## D(z) = Changing diffusivity with depth when upper mixed layer present "
   ]
  },
  {
   "cell_type": "code",
   "execution_count": 86,
   "metadata": {},
   "outputs": [],
   "source": [
    "# diffusivity grid\n",
    "def diffusivity_grid(param):\n",
    "    D_z = np.zeros(param.n)\n",
    "    \n",
    "    for i in range(len(D_z)):\n",
    "        \n",
    "        D_z[i] = param.D_d + ((param.D_u - param.D_d)/(1+np.e**(z[i]-param.Z_mix/param.w)))\n",
    "        \n",
    "    return D_z   "
   ]
  },
  {
   "cell_type": "code",
   "execution_count": 87,
   "metadata": {},
   "outputs": [
    {
     "data": {
      "text/plain": [
       "array([3.9       , 3.9       , 3.9       , 3.9       , 3.9       ,\n",
       "       3.9       , 3.9       , 3.9       , 3.9       , 3.9       ,\n",
       "       3.9       , 3.9       , 3.9       , 3.9       , 3.89999998,\n",
       "       3.89999962, 3.89999231, 3.89984565, 3.89690243, 3.83884689,\n",
       "       2.98559917, 0.90528993, 0.52275569, 0.50114019, 0.50005678,\n",
       "       0.50000283, 0.50000014, 0.50000001, 0.5       , 0.5       ,\n",
       "       0.5       , 0.5       , 0.5       , 0.5       , 0.5       ,\n",
       "       0.5       , 0.5       , 0.5       , 0.5       , 0.5       ,\n",
       "       0.5       , 0.5       , 0.5       , 0.5       , 0.5       ,\n",
       "       0.5       , 0.5       , 0.5       , 0.5       , 0.5       ,\n",
       "       0.5       , 0.5       , 0.5       , 0.5       , 0.5       ,\n",
       "       0.5       , 0.5       , 0.5       , 0.5       , 0.5       ,\n",
       "       0.5       , 0.5       , 0.5       , 0.5       , 0.5       ,\n",
       "       0.5       , 0.5       , 0.5       , 0.5       , 0.5       ,\n",
       "       0.5       , 0.5       , 0.5       , 0.5       , 0.5       ,\n",
       "       0.5       , 0.5       , 0.5       , 0.5       , 0.5       ,\n",
       "       0.5       , 0.5       , 0.5       , 0.5       , 0.5       ,\n",
       "       0.5       , 0.5       , 0.5       , 0.5       , 0.5       ,\n",
       "       0.5       , 0.5       , 0.5       , 0.5       , 0.5       ,\n",
       "       0.5       , 0.5       , 0.5       , 0.5       , 0.5       ])"
      ]
     },
     "execution_count": 87,
     "metadata": {},
     "output_type": "execute_result"
    }
   ],
   "source": [
    "D_z = diffusivity_grid(param)\n",
    "D_z"
   ]
  },
  {
   "cell_type": "code",
   "execution_count": 88,
   "metadata": {},
   "outputs": [
    {
     "data": {
      "text/plain": [
       "array([0.05, 0.1 , 0.15, 0.2 , 0.25, 0.3 , 0.35, 0.4 , 0.45, 0.5 , 0.55,\n",
       "       0.6 , 0.65, 0.7 , 0.75, 0.8 , 0.85, 0.9 , 0.95, 1.  , 1.05, 1.1 ,\n",
       "       1.15, 1.2 , 1.25, 1.3 , 1.35, 1.4 , 1.45, 1.5 , 1.55, 1.6 , 1.65,\n",
       "       1.7 , 1.75, 1.8 , 1.85, 1.9 , 1.95, 2.  , 2.05, 2.1 , 2.15, 2.2 ,\n",
       "       2.25, 2.3 , 2.35, 2.4 , 2.45])"
      ]
     },
     "execution_count": 88,
     "metadata": {},
     "output_type": "execute_result"
    }
   ],
   "source": [
    "D_diff = np.arange(0.05, 2.5, 0.05)\n",
    "D_diff"
   ]
  },
  {
   "cell_type": "code",
   "execution_count": 89,
   "metadata": {},
   "outputs": [],
   "source": [
    "#plt.plot(z,D_z)\n",
    "#plt.xlabel('Depth (meters)')\n",
    "#plt.ylabel('Diffusivity m2/s')\n",
    "#plt.title('Depth vs Diffusivity')"
   ]
  },
  {
   "cell_type": "code",
   "execution_count": 90,
   "metadata": {},
   "outputs": [],
   "source": [
    "## diffusion of phytoplankton\n",
    "\n",
    "# advection flux\n",
    "j_a = np.zeros(param.n + 1)\n",
    "\n",
    "# diffusion flux\n",
    "j_d = np.zeros(param.n + 1)\n",
    "\n",
    "# total flux\n",
    "j = np.zeros(param.n + 1)\n",
    "\n",
    "\n",
    "# dp/dt\n",
    "dp_dt = np.zeros(param.n)\n",
    "\n",
    "\n",
    "\n",
    "## diffusion of nutrients\n",
    "\n",
    "j_an = np.zeros(param.n + 1)\n",
    "\n",
    "j_dn = np.zeros(param.n +1)\n",
    "\n",
    "j_n = np.zeros(param.n +1)\n",
    "\n",
    "\n",
    "# dN_dt\n",
    "dN_dt = np.zeros(param.n)\n",
    "\n"
   ]
  },
  {
   "cell_type": "markdown",
   "metadata": {},
   "source": [
    "## Initial conditions\n",
    "## Planktons p = 1000 cells m-3 , Nutrients N = 5 mmols m-3"
   ]
  },
  {
   "cell_type": "code",
   "execution_count": 91,
   "metadata": {},
   "outputs": [
    {
     "data": {
      "text/plain": [
       "array([  0., 100., 100., 100., 100., 100., 100., 100., 100., 100., 100.,\n",
       "       100., 100., 100., 100., 100., 100., 100., 100., 100., 100., 100.,\n",
       "       100., 100., 100., 100., 100., 100., 100., 100., 100., 100., 100.,\n",
       "       100., 100., 100., 100., 100., 100., 100., 100., 100., 100., 100.,\n",
       "       100., 100., 100., 100., 100., 100., 100., 100., 100., 100., 100.,\n",
       "       100., 100., 100., 100., 100., 100., 100., 100., 100., 100., 100.,\n",
       "       100., 100., 100., 100., 100., 100., 100., 100., 100., 100., 100.,\n",
       "       100., 100., 100., 100., 100., 100., 100., 100., 100., 100., 100.,\n",
       "       100., 100., 100., 100., 100., 100., 100., 100., 100., 100., 100.,\n",
       "         0.])"
      ]
     },
     "execution_count": 91,
     "metadata": {},
     "output_type": "execute_result"
    }
   ],
   "source": [
    "y = np.ones(param.n*2)\n",
    "\n",
    "p = y[0:param.n]\n",
    "N = y[param.n:param.n*2]\n",
    "\n",
    "\n",
    "for i in range(len(p)):\n",
    "    p[i] = p[i] * (10*3)\n",
    "    N[i] = N[i] * 100\n",
    "\n",
    "\n",
    "p[0] = 0\n",
    "N[0] = 0\n",
    "p[param.n-1]= 0\n",
    "N[param.n-1] = 0\n",
    "    \n",
    "N"
   ]
  },
  {
   "cell_type": "markdown",
   "metadata": {},
   "source": [
    "## Time steps"
   ]
  },
  {
   "cell_type": "code",
   "execution_count": 92,
   "metadata": {},
   "outputs": [
    {
     "data": {
      "text/plain": [
       "(0, 1000)"
      ]
     },
     "execution_count": 92,
     "metadata": {},
     "output_type": "execute_result"
    }
   ],
   "source": [
    "t = (0,1000)\n",
    "t"
   ]
  },
  {
   "cell_type": "code",
   "execution_count": 93,
   "metadata": {},
   "outputs": [],
   "source": [
    "def calc_light(p,param):\n",
    "    \n",
    "    p_temp = np.zeros(param.n)\n",
    "    \n",
    "    p_temp = np.cumsum(p)*param.delta_z()*param.k\n",
    "    \n",
    "    I_zt = param.I_in*(np.e**(- param.K_bg * z - p_temp))\n",
    "       \n",
    "    return I_zt\n"
   ]
  },
  {
   "cell_type": "code",
   "execution_count": 94,
   "metadata": {},
   "outputs": [],
   "source": [
    "I_zt = calc_light(p,param)\n",
    "#I_zt"
   ]
  },
  {
   "cell_type": "code",
   "execution_count": 95,
   "metadata": {},
   "outputs": [],
   "source": [
    "def calc_mu(N,I_zt,param):\n",
    "    h_n = np.zeros(len(N))\n",
    "    h_i = np.zeros(len(N))\n",
    "    mu = np.zeros(len(N))\n",
    "    \n",
    "    for i in range(len(N)):\n",
    "        h_n[i] = N[i] /( param.H_N + N[i])\n",
    "        h_i[i] = I_zt[i]/(param.H_I + I_zt[i])\n",
    "        \n",
    "        mu[i] = param.mu_max * min(h_n[i], h_i[i])\n",
    "    return mu\n",
    "    "
   ]
  },
  {
   "cell_type": "code",
   "execution_count": 96,
   "metadata": {},
   "outputs": [],
   "source": [
    "#calc_mu(N,I_zt,param)\n",
    "#N /( param.H_N + N)\n",
    "#I_zt/(param.H_I + I_zt)"
   ]
  },
  {
   "cell_type": "code",
   "execution_count": 97,
   "metadata": {},
   "outputs": [],
   "source": [
    "def diff_ode(t,y):\n",
    "    \n",
    "    dy = np.zeros(param.n*2)\n",
    "    p = y[0:param.n]\n",
    "    N = y[param.n:]\n",
    "    \n",
    "    # diffusion of phytoplanktons\n",
    "    for i in range(1,param.n):  \n",
    "    \n",
    "        # advection flux\n",
    "        j_a[i] = param.u * p[i-1]\n",
    "        j_a[0] = 0\n",
    "        j_a[param.n] = 0\n",
    "        \n",
    "        # diffusionn flux\n",
    "        j_d[i] = - param.D * (p[i] - p[i-1])/param.delta_z()\n",
    "        j_d[0] = 0\n",
    "        j_d[param.n] = 0\n",
    "    \n",
    "    # addition of all fluxes\n",
    "    j  = j_a + j_d\n",
    "        \n",
    "                \n",
    "    for i in range(1,param.n-1):\n",
    "         \n",
    "        dp_dt[i] = -(j[i+1] - j[i])/param.delta_z()\n",
    "        \n",
    "        \n",
    "    # nutrient fluxes\n",
    "    \n",
    "    for i in range(1,param.n):\n",
    "        # no advection of nutrients\n",
    "        j_an[i] = 0 # param.u * N[i-1]\n",
    "        j_an[0] = 0\n",
    "        j_an[param.n] = 0\n",
    "        \n",
    "        j_dn[i] = - param.D * (N[i] - N[i-1])/param.delta_z()\n",
    "        j_dn[0] = 0\n",
    "        j_dn[param.n-1] = - param.D * (param.Nbottom - N[param.n-1])/param.delta_z()\n",
    "        \n",
    "        \n",
    "    j_n = j_an + j_dn\n",
    "    \n",
    "    \n",
    "    for i in range(1,param.n-1):\n",
    "        \n",
    "        dN_dt[i] = -(j_n[i+1] - j_n[i])/param.delta_z()\n",
    "    \n",
    "    \n",
    "       \n",
    "    \n",
    "    # change in light with time and depth\n",
    "    I_zt = calc_light(p,param)\n",
    "    \n",
    "    \n",
    "    \n",
    "    # calculate mu\n",
    "    mu = calc_mu(N,I_zt,param)\n",
    "    \n",
    "    \n",
    "    # change in nutrients and phytoplankton \n",
    "    \n",
    "    for i in range(1,param.n-1):\n",
    "     \n",
    "        dp_dt[i] = (mu[i]*p[i]) - (param.m*p[i]) + dp_dt[i]\n",
    "        \n",
    "        dN_dt[i] = -(param.alpha*mu[i]*p[i]) + (param.epsilon*param.alpha*param.m*p[i]) + dN_dt[i] \n",
    "        \n",
    "    dy[0:param.n] = dp_dt\n",
    "    dy[param.n:] = dN_dt\n",
    "    \n",
    "    return dy"
   ]
  },
  {
   "cell_type": "code",
   "execution_count": 98,
   "metadata": {},
   "outputs": [],
   "source": [
    "#diff_ode(t,y)\n",
    "soln = solve_ivp(diff_ode,t,y)"
   ]
  },
  {
   "cell_type": "code",
   "execution_count": 99,
   "metadata": {},
   "outputs": [
    {
     "data": {
      "text/plain": [
       "350"
      ]
     },
     "execution_count": 99,
     "metadata": {},
     "output_type": "execute_result"
    }
   ],
   "source": [
    "omega = soln.y[0:param.n,:]\n",
    "omega.shape[1]"
   ]
  },
  {
   "cell_type": "code",
   "execution_count": 100,
   "metadata": {},
   "outputs": [],
   "source": [
    "#omega"
   ]
  },
  {
   "cell_type": "code",
   "execution_count": 101,
   "metadata": {},
   "outputs": [
    {
     "data": {
      "image/png": "[encoded data removed]",
      "text/plain": [
       "<Figure size 432x288 with 2 Axes>"
      ]
     },
     "metadata": {
      "needs_background": "light"
     },
     "output_type": "display_data"
    }
   ],
   "source": [
    "plt.title('Phytoplankton density without UML')\n",
    "plt.xlabel('Time (Days)')\n",
    "plt.ylabel('Depth (meters)')\n",
    "\n",
    "scale_y = param.delta_z()\n",
    "\n",
    "\n",
    "plt.imshow(omega,cmap = 'viridis', aspect = 'auto', extent=[0,omega.shape[1],param.depth,0]) \n",
    "cb = plt.colorbar()\n",
    "cb.set_label('Phytoplankton cells m-3')\n",
    "#plt.imsave('/users/manasi/Documents/dtu/course_content/pgrowth_no_uml.png')"
   ]
  },
  {
   "cell_type": "code",
   "execution_count": 102,
   "metadata": {},
   "outputs": [],
   "source": [
    "nuts = soln.y[param.n:,:]"
   ]
  },
  {
   "cell_type": "code",
   "execution_count": 103,
   "metadata": {},
   "outputs": [],
   "source": [
    "#nuts"
   ]
  },
  {
   "cell_type": "code",
   "execution_count": 104,
   "metadata": {},
   "outputs": [
    {
     "data": {
      "text/plain": [
       "Text(0.5, 1.0, 'Phytoplankton profile at time step- 100 Day')"
      ]
     },
     "execution_count": 104,
     "metadata": {},
     "output_type": "execute_result"
    },
    {
     "data": {
      "image/png": "[encoded data removed]",
      "text/plain": [
       "<Figure size 432x288 with 1 Axes>"
      ]
     },
     "metadata": {
      "needs_background": "light"
     },
     "output_type": "display_data"
    }
   ],
   "source": [
    "d1 = omega[:,300]\n",
    "plt.plot(d1,z)\n",
    "plt.xlabel('Density of Phytoplanktons (Cells m-3)')\n",
    "plt.ylabel('Depth (Meters)')\n",
    "plt.gca().invert_yaxis()\n",
    "plt.title('Phytoplankton profile at time step- 100 Day')"
   ]
  },
  {
   "cell_type": "code",
   "execution_count": null,
   "metadata": {},
   "outputs": [],
   "source": []
  },
  {
   "cell_type": "code",
   "execution_count": 105,
   "metadata": {},
   "outputs": [
    {
     "data": {
      "text/plain": [
       "Text(0.5, 1.0, 'Nutrient profile with time and depth')"
      ]
     },
     "execution_count": 105,
     "metadata": {},
     "output_type": "execute_result"
    },
    {
     "data": {
      "image/png": "[encoded data removed]",
      "text/plain": [
       "<Figure size 432x288 with 2 Axes>"
      ]
     },
     "metadata": {
      "needs_background": "light"
     },
     "output_type": "display_data"
    }
   ],
   "source": [
    "plt.xlabel('Time (Days)')\n",
    "plt.ylabel('Depth (meters)')\n",
    "\n",
    "plt.imshow(nuts, cmap = 'viridis', aspect = 'auto',extent=[0,omega.shape[1],param.depth,0]) \n",
    "cb = plt.colorbar()\n",
    "cb.set_label('Water nutrients (mmol nutrient m-3)')\n",
    "plt.title('Nutrient profile with time and depth')"
   ]
  },
  {
   "cell_type": "markdown",
   "metadata": {},
   "source": [
    "# Model with presence of upper mixed layer at 50 meters"
   ]
  },
  {
   "cell_type": "code",
   "execution_count": 106,
   "metadata": {},
   "outputs": [
    {
     "data": {
      "text/plain": [
       "Text(0.5, 1.0, 'Nutrient profile at time step- 300 Day')"
      ]
     },
     "execution_count": 106,
     "metadata": {},
     "output_type": "execute_result"
    },
    {
     "data": {
      "image/png": "[encoded data removed]",
      "text/plain": [
       "<Figure size 432x288 with 1 Axes>"
      ]
     },
     "metadata": {
      "needs_background": "light"
     },
     "output_type": "display_data"
    }
   ],
   "source": [
    "d1 = nuts[:,300]\n",
    "plt.plot(d1,z)\n",
    "plt.xlabel('Nutrient concentration (mmols nutrients m-3)')\n",
    "plt.ylabel('Depth (Meters)')\n",
    "plt.gca().invert_yaxis()\n",
    "plt.title('Nutrient profile at time step- 300 Day')"
   ]
  },
  {
   "cell_type": "code",
   "execution_count": 2062,
   "metadata": {},
   "outputs": [],
   "source": [
    "def diff_ode1(t,y):\n",
    "    \n",
    "    dy = np.zeros(param.n*2)\n",
    "    p = y[0:param.n]\n",
    "    N = y[param.n:]\n",
    "    \n",
    "    # diffusion of phytoplanktons\n",
    "    for i in range(1,param.n):  \n",
    "    \n",
    "        # advection flux\n",
    "        j_a[i] = param.u * p[i-1]\n",
    "        j_a[0] = 0\n",
    "        j_a[param.n] = 0\n",
    "        \n",
    "        # diffusionn flux\n",
    "        j_d[i] = - (D_z[i] * (p[i] - p[i-1]))/param.delta_z()\n",
    "        j_d[0] = 0\n",
    "        j_d[param.n] = 0\n",
    "    \n",
    "    # addition of all fluxes\n",
    "    j  = j_a + j_d\n",
    "        \n",
    "                \n",
    "    for i in range(1,param.n-1):\n",
    "         \n",
    "        dp_dt[i] = -(j[i+1] - j[i])/param.delta_z()\n",
    "        \n",
    "        \n",
    "    # nutrient fluxes\n",
    "    \n",
    "    for i in range(1,param.n):\n",
    "        # nutrients do not advect\n",
    "        j_an[i] = 0                 # param.u * N[i-1]\n",
    "        j_an[0] = 0\n",
    "        j_an[param.n] = 0\n",
    "        \n",
    "        j_dn[i] = - D_z[i] * (N[i] - N[i-1])/param.delta_z()\n",
    "        j_dn[0] = 0\n",
    "        j_dn[param.n-1] = - D_z[i] * (param.Nbottom - N[param.n-1]/param.delta_z())\n",
    "        \n",
    "    j_n = j_an + j_dn\n",
    "    \n",
    "    \n",
    "    for i in range(1,param.n-1):\n",
    "        \n",
    "        dN_dt[i] = -(j_n[i+1] - j_n[i])/param.delta_z()\n",
    "    \n",
    "    \n",
    "    # change in light with time and depth\n",
    "    I_zt = calc_light(p,param)\n",
    "    \n",
    "    \n",
    "    \n",
    "    # calculate mu\n",
    "    mu = calc_mu(N,I_zt,param)\n",
    "    \n",
    "    \n",
    "    # calculate phytoplankton and Nutrients\n",
    "    \n",
    "    for i in range(1,param.n-1):\n",
    "     \n",
    "        dp_dt[i] = (mu[i]*p[i]) - (param.m*p[i]) + dp_dt[i]\n",
    "        \n",
    "        dN_dt[i] = -(param.alpha*mu[i]*p[i]) + (param.epsilon*param.alpha*param.m*p[i]) + dN_dt[i] \n",
    "        \n",
    "    dy[0:param.n] = dp_dt\n",
    "    dy[param.n:] = dN_dt\n",
    "    \n",
    "    return dy"
   ]
  },
  {
   "cell_type": "code",
   "execution_count": 2063,
   "metadata": {},
   "outputs": [],
   "source": [
    "soln2 = solve_ivp(diff_ode1,t,y)"
   ]
  },
  {
   "cell_type": "code",
   "execution_count": 2064,
   "metadata": {},
   "outputs": [
    {
     "data": {
      "text/plain": [
       "(100, 593)"
      ]
     },
     "execution_count": 2064,
     "metadata": {},
     "output_type": "execute_result"
    }
   ],
   "source": [
    "omega1 = soln2.y[0:param.n,:]\n",
    "omega1.shape"
   ]
  },
  {
   "cell_type": "code",
   "execution_count": 2065,
   "metadata": {},
   "outputs": [
    {
     "data": {
      "text/plain": [
       "Text(0.5, 1.0, 'Phytoplankton growth with UML 50m')"
      ]
     },
     "execution_count": 2065,
     "metadata": {},
     "output_type": "execute_result"
    },
    {
     "data": {
      "image/png": "[encoded data removed]",
      "text/plain": [
       "<Figure size 432x288 with 2 Axes>"
      ]
     },
     "metadata": {
      "needs_background": "light"
     },
     "output_type": "display_data"
    }
   ],
   "source": [
    "plt.xlabel('Time (Days)')\n",
    "plt.ylabel('Depth (meters)')\n",
    "\n",
    "plt.imshow(omega1, cmap = 'viridis', aspect = 'auto',extent=[0,omega1.shape[1],param.depth,0])\n",
    "cb = plt.colorbar()\n",
    "cb.set_label('Cells m-3')\n",
    "plt.title('Phytoplankton growth with UML 50m')"
   ]
  },
  {
   "cell_type": "code",
   "execution_count": 2066,
   "metadata": {},
   "outputs": [
    {
     "data": {
      "text/plain": [
       "Text(0.5, 1.0, 'Phytoplankton profile with UML at 50m')"
      ]
     },
     "execution_count": 2066,
     "metadata": {},
     "output_type": "execute_result"
    },
    {
     "data": {
      "image/png": "[encoded data removed]",
      "text/plain": [
       "<Figure size 432x288 with 1 Axes>"
      ]
     },
     "metadata": {
      "needs_background": "light"
     },
     "output_type": "display_data"
    }
   ],
   "source": [
    "d2 = omega1[:,200]\n",
    "plt.plot(d2,z)\n",
    "plt.xlabel('Depth (Meters)')\n",
    "plt.ylabel('Density of Phytoplanktons (Cells m-3)')\n",
    "plt.gca().invert_yaxis()\n",
    "plt.title('Phytoplankton profile with UML at 50m')"
   ]
  },
  {
   "cell_type": "code",
   "execution_count": 2021,
   "metadata": {},
   "outputs": [
    {
     "data": {
      "text/plain": [
       "(100, 590)"
      ]
     },
     "execution_count": 2021,
     "metadata": {},
     "output_type": "execute_result"
    }
   ],
   "source": [
    "nuts1 = soln2.y[param.n:,:]\n",
    "nuts1.shape"
   ]
  },
  {
   "cell_type": "code",
   "execution_count": 2022,
   "metadata": {},
   "outputs": [
    {
     "data": {
      "text/plain": [
       "Text(0.5, 1.0, 'Nutrient profile with UML at 50 m')"
      ]
     },
     "execution_count": 2022,
     "metadata": {},
     "output_type": "execute_result"
    },
    {
     "data": {
      "image/png": "[encoded data removed]",
      "text/plain": [
       "<Figure size 432x288 with 2 Axes>"
      ]
     },
     "metadata": {
      "needs_background": "light"
     },
     "output_type": "display_data"
    }
   ],
   "source": [
    "plt.xlabel('Time (hr-1)')\n",
    "plt.ylabel('Depth (meters)')\n",
    "\n",
    "plt.imshow(nuts1, cmap = 'viridis', aspect = 'auto',extent=[0,omega1.shape[1],param.depth,0])\n",
    "cb = plt.colorbar()\n",
    "cb.set_label('Water nutrients (mmol nutrient m-3)')\n",
    "plt.title('Nutrient profile with UML at 50 m')"
   ]
  },
  {
   "cell_type": "code",
   "execution_count": null,
   "metadata": {},
   "outputs": [],
   "source": []
  },
  {
   "cell_type": "code",
   "execution_count": null,
   "metadata": {},
   "outputs": [],
   "source": []
  },
  {
   "cell_type": "code",
   "execution_count": null,
   "metadata": {},
   "outputs": [],
   "source": []
  }
 ],
 "metadata": {
  "kernelspec": {
   "display_name": "Python 3",
   "language": "python",
   "name": "python3"
  },
  "language_info": {
   "codemirror_mode": {
    "name": "ipython",
    "version": 3
   },
   "file_extension": ".py",
   "mimetype": "text/x-python",
   "name": "python",
   "nbconvert_exporter": "python",
   "pygments_lexer": "ipython3",
   "version": "3.7.3"
  }
 },
 "nbformat": 4,
 "nbformat_minor": 4
}
