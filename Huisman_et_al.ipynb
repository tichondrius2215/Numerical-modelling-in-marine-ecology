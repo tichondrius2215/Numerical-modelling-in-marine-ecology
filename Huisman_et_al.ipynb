{
 "cells": [
  {
   "cell_type": "markdown",
   "metadata": {},
   "source": [
    "# Numerical modeling Exercise 2\n",
    "# Population dynamics of the sinking phytoplankton population"
   ]
  },
  {
   "cell_type": "markdown",
   "metadata": {},
   "source": [
    "Dr. Ken Andersen's lab \n",
    "Date: 8-02-22"
   ]
  },
  {
   "cell_type": "code",
   "execution_count": null,
   "metadata": {},
   "outputs": [],
   "source": []
  },
  {
   "cell_type": "code",
   "execution_count": 1549,
   "metadata": {},
   "outputs": [],
   "source": [
    "import numpy as np\n",
    "import seaborn as sns\n",
    "import matplotlib.pyplot as plt\n",
    "from scipy.integrate import solve_ivp\n",
    "from mpl_toolkits.mplot3d import Axes3D\n",
    "from matplotlib import cm"
   ]
  },
  {
   "cell_type": "code",
   "execution_count": 1550,
   "metadata": {},
   "outputs": [],
   "source": [
    "# setteling velocity\n",
    "u = 0.04    # meters per second\n",
    "\n",
    "# diffusion velocity\n",
    "D = 0.5   # meters per second\n",
    "\n",
    "#incident light\n",
    "I_0 = 350  # umol photons m-2 s-1\n",
    "\n",
    "# depth\n",
    "depth = 100    # meters\n",
    "\n",
    "\n",
    "# background turbidity\n",
    "K_bg = 0.2  #m-1\n",
    "\n",
    "\n",
    "# number of grids\n",
    "n_d = 50\n",
    "\n",
    "# size of each depth grid\n",
    "delta_z = depth /n_d \n",
    "\n",
    "\n",
    "# specific light attenuation of phytoplankton\n",
    "k = x = 15*(10**(-12))\n",
    "k\n",
    "\n",
    "\n",
    "# p_max\n",
    "p_max = 0.4   # per hour\n",
    "\n",
    "\n",
    "# H half-saturation constant of light-limited growth \n",
    "H = 30\n",
    "\n",
    "\n",
    "\n",
    "# specific loss rate\n",
    "l = 0.01"
   ]
  },
  {
   "cell_type": "code",
   "execution_count": 1551,
   "metadata": {},
   "outputs": [
    {
     "data": {
      "text/plain": [
       "array([ 1.,  3.,  5.,  7.,  9., 11., 13., 15., 17., 19., 21., 23., 25.,\n",
       "       27., 29., 31., 33., 35., 37., 39., 41., 43., 45., 47., 49., 51.,\n",
       "       53., 55., 57., 59., 61., 63., 65., 67., 69., 71., 73., 75., 77.,\n",
       "       79., 81., 83., 85., 87., 89., 91., 93., 95., 97., 99.])"
      ]
     },
     "execution_count": 1551,
     "metadata": {},
     "output_type": "execute_result"
    }
   ],
   "source": [
    "# depth grid\n",
    "z = np.arange((0.5 * delta_z),(depth - 0.5*delta_z)+delta_z,delta_z)\n",
    "z"
   ]
  },
  {
   "cell_type": "code",
   "execution_count": 1552,
   "metadata": {},
   "outputs": [],
   "source": [
    "# change in light with respect to phytoplankton concentration\n",
    "#I_zt = np.zeros(n_d)"
   ]
  },
  {
   "cell_type": "code",
   "execution_count": 1553,
   "metadata": {},
   "outputs": [
    {
     "data": {
      "text/plain": [
       "array([0., 0., 0., 0., 0., 0., 0., 0., 0., 0., 0., 0., 0., 0., 0., 0., 0.,\n",
       "       0., 0., 0., 0., 0., 0., 0., 0., 0., 0., 0., 0., 0., 0., 0., 0., 0.,\n",
       "       0., 0., 0., 0., 0., 0., 0., 0., 0., 0., 0., 0., 0., 0., 0., 0.])"
      ]
     },
     "execution_count": 1553,
     "metadata": {},
     "output_type": "execute_result"
    }
   ],
   "source": [
    "# ø grid \n",
    "phi = np.zeros(n_d)\n",
    "\n",
    "# advection flux\n",
    "j_a = np.zeros(n_d+1)\n",
    "\n",
    "# diffusion flux\n",
    "j_d = np.zeros(n_d+1)\n",
    "\n",
    "# total flux\n",
    "j = np.zeros(n_d+1)\n",
    "\n",
    "\n",
    "# dphi/dt\n",
    "dphi_dt = np.zeros(n_d)\n",
    "domega_dt = np.zeros(n_d)\n",
    "\n",
    "g = np.zeros(n_d)\n",
    "\n",
    "# Phytoplankton concentration\n",
    "#omega = np.zeros(n_d)        # cells m-3\n",
    "#omega[4] = 3\n",
    "#omega\n",
    "g"
   ]
  },
  {
   "cell_type": "code",
   "execution_count": 1554,
   "metadata": {},
   "outputs": [
    {
     "data": {
      "text/plain": [
       "(0, 1000)"
      ]
     },
     "execution_count": 1554,
     "metadata": {},
     "output_type": "execute_result"
    }
   ],
   "source": [
    "t = (0,1000)\n",
    "t"
   ]
  },
  {
   "cell_type": "markdown",
   "metadata": {},
   "source": [
    "## Initial conditions"
   ]
  },
  {
   "cell_type": "code",
   "execution_count": 1555,
   "metadata": {},
   "outputs": [
    {
     "data": {
      "text/plain": [
       "array([   0., 1000., 1000., 1000., 1000., 1000., 1000., 1000., 1000.,\n",
       "       1000., 1000., 1000., 1000., 1000., 1000., 1000., 1000., 1000.,\n",
       "       1000., 1000., 1000., 1000., 1000., 1000., 1000., 1000., 1000.,\n",
       "       1000., 1000., 1000., 1000., 1000., 1000., 1000., 1000., 1000.,\n",
       "       1000., 1000., 1000., 1000., 1000., 1000., 1000., 1000., 1000.,\n",
       "       1000., 1000., 1000., 1000.,    0.])"
      ]
     },
     "execution_count": 1555,
     "metadata": {},
     "output_type": "execute_result"
    }
   ],
   "source": [
    "#phi = np.random.randint(1,9,n_d)\n",
    "phi= np.ones(n_d)\n",
    "for i in range(len(phi)):\n",
    "    phi[i] = phi[i] * (10**3)\n",
    "\n",
    "\n",
    "phi[0] = 0\n",
    "phi[n_d-1] = 0\n",
    "phi"
   ]
  },
  {
   "cell_type": "code",
   "execution_count": 1556,
   "metadata": {},
   "outputs": [],
   "source": [
    "def calc_light(phi,k):\n",
    "    \n",
    "    light_integral = np.cumsum(phi)*delta_z*k\n",
    "    I_zt = I_0*(np.e**(- K_bg * z - light_integral))\n",
    "    return I_zt"
   ]
  },
  {
   "cell_type": "code",
   "execution_count": 1557,
   "metadata": {},
   "outputs": [
    {
     "data": {
      "text/plain": [
       "array([2.86555764e+02, 1.92084067e+02, 1.28757797e+02, 8.63089296e+01,\n",
       "       5.78546039e+01, 3.87810996e+01, 2.59957477e+01, 1.74254703e+01,\n",
       "       1.16806417e+01, 7.82976804e+00, 5.24845031e+00, 3.51814135e+00,\n",
       "       2.35828060e+00, 1.58080271e+00, 1.05964372e+00, 7.10300403e-01,\n",
       "       4.76128585e-01, 3.19158525e-01, 2.13938351e-01, 1.43407161e-01,\n",
       "       9.61286918e-02, 6.44369872e-02, 4.31934029e-02, 2.89534030e-02,\n",
       "       1.94080458e-02, 1.30096018e-02, 8.72059660e-03, 5.84559054e-03,\n",
       "       3.91841640e-03, 2.62659299e-03, 1.76065788e-03, 1.18020423e-03,\n",
       "       7.91114533e-04, 5.30299914e-04, 3.55470652e-04, 2.38279097e-04,\n",
       "       1.59723250e-04, 1.07065693e-04, 7.17682783e-05, 4.81077142e-05,\n",
       "       3.22475642e-05, 2.16161881e-05, 1.44897638e-05, 9.71277882e-06,\n",
       "       6.51067015e-06, 4.36423258e-06, 2.92543250e-06, 1.96097599e-06,\n",
       "       1.31448148e-06, 8.81123283e-07])"
      ]
     },
     "execution_count": 1557,
     "metadata": {},
     "output_type": "execute_result"
    }
   ],
   "source": [
    "I_zt = calc_light(phi,k)\n",
    "I_zt"
   ]
  },
  {
   "cell_type": "code",
   "execution_count": 1558,
   "metadata": {},
   "outputs": [],
   "source": [
    "#p_I = p_max * I_zt/(H + I_zt)\n",
    "#p_I"
   ]
  },
  {
   "cell_type": "code",
   "execution_count": 1559,
   "metadata": {},
   "outputs": [],
   "source": [
    "def diff_ode(t,phi):\n",
    "\n",
    "    for i in range(1,n_d):  \n",
    "        \n",
    "        # advection flux\n",
    "        j_a[i] = u * phi[i-1]\n",
    "        j_a[0] = 0\n",
    "        j_a[n_d] = 0\n",
    "        \n",
    "        \n",
    "        # diffusionn flux\n",
    "        j_d[i] = -D * (phi[i] - phi[i-1])/delta_z\n",
    "        j_d[0] = 0\n",
    "        j_d[n_d] = 0\n",
    "    \n",
    "    # advection flux + diffusion flux\n",
    "    j = j_a + j_d  \n",
    "    \n",
    "    # change in flux with respect to time\n",
    "    for i in range(1,n_d-1):\n",
    "        dphi_dt[i] = -(j[i+1] - j[i])/delta_z\n",
    "            \n",
    "    \n",
    "    light_integral = np.cumsum(phi)*delta_z*k\n",
    "    \n",
    "    I_zt = I_0*(np.e**(- K_bg * z - light_integral))\n",
    "    \n",
    "    \n",
    "    # change in light with time and depth\n",
    "    \n",
    "    # change in specific production rate with respect to time and depth\n",
    "    p_I = p_max * I_zt/(H + I_zt)\n",
    "    \n",
    "    # growth rate with respect to time and depth\n",
    "    g = (p_I*phi) - (l*phi)\n",
    "    \n",
    "    for i in range(1,n_d-1):\n",
    "        dphi_dt[i] = g[i] + dphi_dt[i]\n",
    "        \n",
    "    return dphi_dt"
   ]
  },
  {
   "cell_type": "code",
   "execution_count": 1525,
   "metadata": {},
   "outputs": [],
   "source": [
    "soln = solve_ivp(diff_ode,t,phi)"
   ]
  },
  {
   "cell_type": "code",
   "execution_count": 1526,
   "metadata": {},
   "outputs": [],
   "source": [
    "omega = soln.y"
   ]
  },
  {
   "cell_type": "code",
   "execution_count": 1527,
   "metadata": {},
   "outputs": [
    {
     "data": {
      "text/plain": [
       "(50, 238)"
      ]
     },
     "execution_count": 1527,
     "metadata": {},
     "output_type": "execute_result"
    }
   ],
   "source": [
    "omega.shape"
   ]
  },
  {
   "cell_type": "code",
   "execution_count": null,
   "metadata": {},
   "outputs": [],
   "source": []
  },
  {
   "cell_type": "code",
   "execution_count": 1545,
   "metadata": {},
   "outputs": [
    {
     "data": {
      "image/png": "[encoded data removed]",
      "text/plain": [
       "<Figure size 432x288 with 2 Axes>"
      ]
     },
     "metadata": {
      "needs_background": "light"
     },
     "output_type": "display_data"
    }
   ],
   "source": [
    "plt.xlabel('Time (hr-1)')\n",
    "plt.ylabel('Depth (meters)')\n",
    "           \n",
    "plt.imshow(omega,cmap = 'viridis', aspect = 'auto') \n",
    "cb = plt.colorbar()\n",
    "cb.set_label('cells m-3')\n",
    "#plt.imsave('/users/manasi/Documents/phytoplantkon_light_react-advct-diff.jpg',omega, format = 'jpg',)"
   ]
  },
  {
   "cell_type": "code",
   "execution_count": 1546,
   "metadata": {},
   "outputs": [],
   "source": [
    "d1 = omega[:,200]\n"
   ]
  },
  {
   "cell_type": "code",
   "execution_count": 1547,
   "metadata": {},
   "outputs": [
    {
     "data": {
      "image/png": "[encoded data removed]",
      "text/plain": [
       "<Figure size 432x288 with 1 Axes>"
      ]
     },
     "metadata": {
      "needs_background": "light"
     },
     "output_type": "display_data"
    }
   ],
   "source": [
    "plt.plot(d1,z)\n",
    "plt.axis()\n",
    "plt.xlabel('Plankton concentration (cells m-3) at time step 200')\n",
    "plt.ylabel('Depth (meters)')\n",
    "plt.gca().invert_yaxis()"
   ]
  },
  {
   "cell_type": "code",
   "execution_count": 1539,
   "metadata": {},
   "outputs": [
    {
     "data": {
      "text/plain": [
       "\u001b[0;31mSignature:\u001b[0m \u001b[0mplt\u001b[0m\u001b[0;34m.\u001b[0m\u001b[0mimsave\u001b[0m\u001b[0;34m(\u001b[0m\u001b[0mfname\u001b[0m\u001b[0;34m,\u001b[0m \u001b[0marr\u001b[0m\u001b[0;34m,\u001b[0m \u001b[0;34m**\u001b[0m\u001b[0mkwargs\u001b[0m\u001b[0;34m)\u001b[0m\u001b[0;34m\u001b[0m\u001b[0;34m\u001b[0m\u001b[0m\n",
       "\u001b[0;31mDocstring:\u001b[0m\n",
       "Save an array as an image file.\n",
       "\n",
       "Parameters\n",
       "----------\n",
       "fname : str or PathLike or file-like\n",
       "    A path or a file-like object to store the image in.\n",
       "    If *format* is not set, then the output format is inferred from the\n",
       "    extension of *fname*, if any, and from :rc:`savefig.format` otherwise.\n",
       "    If *format* is set, it determines the output format.\n",
       "arr : array-like\n",
       "    The image data. The shape can be one of\n",
       "    MxN (luminance), MxNx3 (RGB) or MxNx4 (RGBA).\n",
       "vmin, vmax : scalar, optional\n",
       "    *vmin* and *vmax* set the color scaling for the image by fixing the\n",
       "    values that map to the colormap color limits. If either *vmin*\n",
       "    or *vmax* is None, that limit is determined from the *arr*\n",
       "    min/max value.\n",
       "cmap : str or `~matplotlib.colors.Colormap`, optional\n",
       "    A Colormap instance or registered colormap name. The colormap\n",
       "    maps scalar data to colors. It is ignored for RGB(A) data.\n",
       "    Defaults to :rc:`image.cmap` ('viridis').\n",
       "format : str, optional\n",
       "    The file format, e.g. 'png', 'pdf', 'svg', ...  The behavior when this\n",
       "    is unset is documented under *fname*.\n",
       "origin : {'upper', 'lower'}, optional\n",
       "    Indicates whether the ``(0, 0)`` index of the array is in the upper\n",
       "    left or lower left corner of the axes.  Defaults to :rc:`image.origin`\n",
       "    ('upper').\n",
       "dpi : int\n",
       "    The DPI to store in the metadata of the file.  This does not affect the\n",
       "    resolution of the output image.\n",
       "\u001b[0;31mSource:\u001b[0m   \n",
       "\u001b[0;34m@\u001b[0m\u001b[0mdocstring\u001b[0m\u001b[0;34m.\u001b[0m\u001b[0mcopy\u001b[0m\u001b[0;34m(\u001b[0m\u001b[0mmatplotlib\u001b[0m\u001b[0;34m.\u001b[0m\u001b[0mimage\u001b[0m\u001b[0;34m.\u001b[0m\u001b[0mimsave\u001b[0m\u001b[0;34m)\u001b[0m\u001b[0;34m\u001b[0m\n",
       "\u001b[0;34m\u001b[0m\u001b[0;32mdef\u001b[0m \u001b[0mimsave\u001b[0m\u001b[0;34m(\u001b[0m\u001b[0mfname\u001b[0m\u001b[0;34m,\u001b[0m \u001b[0marr\u001b[0m\u001b[0;34m,\u001b[0m \u001b[0;34m**\u001b[0m\u001b[0mkwargs\u001b[0m\u001b[0;34m)\u001b[0m\u001b[0;34m:\u001b[0m\u001b[0;34m\u001b[0m\n",
       "\u001b[0;34m\u001b[0m    \u001b[0;32mreturn\u001b[0m \u001b[0mmatplotlib\u001b[0m\u001b[0;34m.\u001b[0m\u001b[0mimage\u001b[0m\u001b[0;34m.\u001b[0m\u001b[0mimsave\u001b[0m\u001b[0;34m(\u001b[0m\u001b[0mfname\u001b[0m\u001b[0;34m,\u001b[0m \u001b[0marr\u001b[0m\u001b[0;34m,\u001b[0m \u001b[0;34m**\u001b[0m\u001b[0mkwargs\u001b[0m\u001b[0;34m)\u001b[0m\u001b[0;34m\u001b[0m\u001b[0;34m\u001b[0m\u001b[0m\n",
       "\u001b[0;31mFile:\u001b[0m      ~/anaconda3/lib/python3.7/site-packages/matplotlib/pyplot.py\n",
       "\u001b[0;31mType:\u001b[0m      function\n"
      ]
     },
     "metadata": {},
     "output_type": "display_data"
    }
   ],
   "source": [
    "plt.imsave??"
   ]
  },
  {
   "cell_type": "code",
   "execution_count": null,
   "metadata": {},
   "outputs": [],
   "source": []
  },
  {
   "cell_type": "code",
   "execution_count": null,
   "metadata": {},
   "outputs": [],
   "source": []
  },
  {
   "cell_type": "code",
   "execution_count": 1531,
   "metadata": {},
   "outputs": [],
   "source": [
    "#tt = np.e**(-(z-50)**2/5)\n",
    "#for i in tt:\n",
    "#    i = int(i)\n",
    "\n",
    "#xt = np.arange(0,10,1)"
   ]
  },
  {
   "cell_type": "code",
   "execution_count": 1532,
   "metadata": {},
   "outputs": [
    {
     "data": {
      "text/plain": [
       "[<matplotlib.lines.Line2D at 0x1a2f5e79e8>]"
      ]
     },
     "execution_count": 1532,
     "metadata": {},
     "output_type": "execute_result"
    },
    {
     "data": {
      "image/png": "[encoded data removed]",
      "text/plain": [
       "<Figure size 432x288 with 1 Axes>"
      ]
     },
     "metadata": {
      "needs_background": "light"
     },
     "output_type": "display_data"
    }
   ],
   "source": [
    "plt.plot(xt,tt)"
   ]
  },
  {
   "cell_type": "code",
   "execution_count": null,
   "metadata": {},
   "outputs": [],
   "source": []
  },
  {
   "cell_type": "code",
   "execution_count": null,
   "metadata": {},
   "outputs": [],
   "source": []
  }
 ],
 "metadata": {
  "kernelspec": {
   "display_name": "Python 3",
   "language": "python",
   "name": "python3"
  },
  "language_info": {
   "codemirror_mode": {
    "name": "ipython",
    "version": 3
   },
   "file_extension": ".py",
   "mimetype": "text/x-python",
   "name": "python",
   "nbconvert_exporter": "python",
   "pygments_lexer": "ipython3",
   "version": "3.7.3"
  }
 },
 "nbformat": 4,
 "nbformat_minor": 4
}
